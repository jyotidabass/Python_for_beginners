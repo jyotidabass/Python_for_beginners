{
  "nbformat": 4,
  "nbformat_minor": 0,
  "metadata": {
    "colab": {
      "name": "Python_for_beginners.ipynb",
      "provenance": [],
      "authorship_tag": "ABX9TyNTCjm4GED7xwS1mB6pGGMi",
      "include_colab_link": true
    },
    "kernelspec": {
      "name": "python3",
      "display_name": "Python 3"
    },
    "language_info": {
      "name": "python"
    }
  },
  "cells": [
    {
      "cell_type": "markdown",
      "metadata": {
        "id": "view-in-github",
        "colab_type": "text"
      },
      "source": [
        "<a href=\"https://colab.research.google.com/github/jyotidabass/Python_for_beginners/blob/main/Python_for_beginners.ipynb\" target=\"_parent\"><img src=\"https://colab.research.google.com/assets/colab-badge.svg\" alt=\"Open In Colab\"/></a>"
      ]
    },
    {
      "cell_type": "code",
      "execution_count": null,
      "metadata": {
        "colab": {
          "base_uri": "https://localhost:8080/"
        },
        "id": "-lC6pUVu1LmG",
        "outputId": "d9fabdb8-e2d5-4077-fdff-3def8d51a53e"
      },
      "outputs": [
        {
          "output_type": "stream",
          "name": "stdout",
          "text": [
            "kriti\n",
            "44.0\n"
          ]
        }
      ],
      "source": [
        "name=\"Jassi\"\n",
        "age=56\n",
        "\n",
        "name=\"kriti\"\n",
        "age=44.0\n",
        "\n",
        "is_adult =True\n",
        "print(name)\n",
        "print(age)"
      ]
    },
    {
      "cell_type": "code",
      "source": [
        "# Second program\n",
        "\n",
        "name=input(\"What is your name?\")\n",
        "print(\"Hello\"+name)"
      ],
      "metadata": {
        "colab": {
          "base_uri": "https://localhost:8080/"
        },
        "id": "XRNCIJ9Z1uuw",
        "outputId": "5a563bea-0ccf-41f2-c47d-74c5f2a748be"
      },
      "execution_count": null,
      "outputs": [
        {
          "output_type": "stream",
          "name": "stdout",
          "text": [
            "What is your name?jyoti\n",
            "Hellojyoti\n"
          ]
        }
      ]
    },
    {
      "cell_type": "code",
      "source": [
        "#Third program\n",
        "old_age=input(\"enter your old age:\")\n",
        "new_age=int(old_age)+2\n",
        "print(new_age)"
      ],
      "metadata": {
        "colab": {
          "base_uri": "https://localhost:8080/"
        },
        "id": "sQ6NjrL92Bul",
        "outputId": "376448ae-4703-4a9a-829e-95ed5ed5da8e"
      },
      "execution_count": null,
      "outputs": [
        {
          "output_type": "stream",
          "name": "stdout",
          "text": [
            "enter your old age:27\n",
            "29\n"
          ]
        }
      ]
    },
    {
      "cell_type": "code",
      "source": [
        "#fourth program\n",
        "number=18\n",
        "print(float(18))"
      ],
      "metadata": {
        "colab": {
          "base_uri": "https://localhost:8080/"
        },
        "id": "aatWvGMP2DZI",
        "outputId": "0680fadf-c606-424b-ee9b-e04ef37a6cf1"
      },
      "execution_count": null,
      "outputs": [
        {
          "output_type": "stream",
          "name": "stdout",
          "text": [
            "18.0\n"
          ]
        }
      ]
    },
    {
      "cell_type": "code",
      "source": [
        "#fifth program\n",
        "first=input(\"enter first number:\")\n",
        "second=input(\"enter second number:\")\n",
        "sum=int(first) +int(second)\n",
        "print(\"the sum is :\" +str(sum))"
      ],
      "metadata": {
        "colab": {
          "base_uri": "https://localhost:8080/"
        },
        "id": "9SLre_4-2GPH",
        "outputId": "e1341981-e6be-49f2-9c53-37fc13538791"
      },
      "execution_count": null,
      "outputs": [
        {
          "output_type": "stream",
          "name": "stdout",
          "text": [
            "enter first number:23\n",
            "enter second number:25\n",
            "the sum is :48\n"
          ]
        }
      ]
    },
    {
      "cell_type": "code",
      "source": [
        "#sixth program\n",
        "name=\"Tony Stark\"\n",
        "print(name.upper())\n",
        "print(name)"
      ],
      "metadata": {
        "colab": {
          "base_uri": "https://localhost:8080/"
        },
        "id": "6IDFrYww2ING",
        "outputId": "1a9c6d12-b55e-4bcf-f534-2067d0b1b308"
      },
      "execution_count": null,
      "outputs": [
        {
          "output_type": "stream",
          "name": "stdout",
          "text": [
            "TONY STARK\n",
            "Tony Stark\n"
          ]
        }
      ]
    },
    {
      "cell_type": "code",
      "source": [
        "#seventh program\n",
        "name=\"Tony Stark\"\n",
        "print(name.lower())\n",
        "print(name)"
      ],
      "metadata": {
        "colab": {
          "base_uri": "https://localhost:8080/"
        },
        "id": "LUsQ94A42Lja",
        "outputId": "a9fdee62-e400-4bdf-f25d-856227a30b69"
      },
      "execution_count": null,
      "outputs": [
        {
          "output_type": "stream",
          "name": "stdout",
          "text": [
            "tony stark\n",
            "Tony Stark\n"
          ]
        }
      ]
    },
    {
      "cell_type": "code",
      "source": [
        "#eight program\n",
        "name=\"Tony Stark\"\n",
        "\n",
        "print(name.find('S'))"
      ],
      "metadata": {
        "colab": {
          "base_uri": "https://localhost:8080/"
        },
        "id": "06OZ6iFd2Nen",
        "outputId": "7b95f218-2379-44b3-c5f9-9c50885be752"
      },
      "execution_count": null,
      "outputs": [
        {
          "output_type": "stream",
          "name": "stdout",
          "text": [
            "5\n"
          ]
        }
      ]
    },
    {
      "cell_type": "code",
      "source": [
        "#ninth program\n",
        "name=\"Tony Stark\"\n",
        "\n",
        "print(name.find('stark'))"
      ],
      "metadata": {
        "colab": {
          "base_uri": "https://localhost:8080/"
        },
        "id": "EApJM11-2OZM",
        "outputId": "95009e30-53be-4a55-e29d-e977f9eaed1a"
      },
      "execution_count": null,
      "outputs": [
        {
          "output_type": "stream",
          "name": "stdout",
          "text": [
            "-1\n"
          ]
        }
      ]
    },
    {
      "cell_type": "code",
      "source": [
        "#tenth program\n",
        "name=\"Tony Stark\"\n",
        "\n",
        "print(name.replace(\"T\", \"M\"))\n",
        "print(name)"
      ],
      "metadata": {
        "colab": {
          "base_uri": "https://localhost:8080/"
        },
        "id": "TxnDuT4W2UFv",
        "outputId": "d6a42133-0c07-4475-f13d-e22980fe8138"
      },
      "execution_count": null,
      "outputs": [
        {
          "output_type": "stream",
          "name": "stdout",
          "text": [
            "Mony Stark\n",
            "Tony Stark\n"
          ]
        }
      ]
    },
    {
      "cell_type": "code",
      "source": [
        "#eleventh program\n",
        "name=\"Tony Stark\"\n",
        "print('T' in name)"
      ],
      "metadata": {
        "colab": {
          "base_uri": "https://localhost:8080/"
        },
        "id": "Hz8FeqdT2XXY",
        "outputId": "c846b558-0e7c-4634-b119-99e72edccc0d"
      },
      "execution_count": null,
      "outputs": [
        {
          "output_type": "stream",
          "name": "stdout",
          "text": [
            "True\n"
          ]
        }
      ]
    },
    {
      "cell_type": "code",
      "source": [
        "#twelve program\n",
        "print(5+2)\n",
        "print(5//2)"
      ],
      "metadata": {
        "colab": {
          "base_uri": "https://localhost:8080/"
        },
        "id": "ZpflU_vE2Z7s",
        "outputId": "a74b6f0c-ab24-49a4-98a9-adec47586f11"
      },
      "execution_count": null,
      "outputs": [
        {
          "output_type": "stream",
          "name": "stdout",
          "text": [
            "7\n",
            "2\n"
          ]
        }
      ]
    },
    {
      "cell_type": "code",
      "source": [
        "#thirteen\n",
        "i=5\n",
        "i=i+2\n",
        "i+=2\n",
        "i-=2\n",
        "i*=2"
      ],
      "metadata": {
        "id": "SJ_fpKJk2ftI"
      },
      "execution_count": null,
      "outputs": []
    },
    {
      "cell_type": "code",
      "source": [
        "#fourteen\n",
        "result=2+3*5\n",
        "print(result)"
      ],
      "metadata": {
        "colab": {
          "base_uri": "https://localhost:8080/"
        },
        "id": "8AqeHEBY2dPM",
        "outputId": "058c5dc5-d7e7-4506-b9f6-2eb5b4b8e776"
      },
      "execution_count": null,
      "outputs": [
        {
          "output_type": "stream",
          "name": "stdout",
          "text": [
            "17\n"
          ]
        }
      ]
    },
    {
      "cell_type": "code",
      "source": [
        "#fifteen\n",
        "age=19\n",
        "if age>=18:\n",
        "    print(\"you are an adult\")\n",
        "    print(\"you can vote\")\n",
        "elif age<18 and age>3:\n",
        "    print(\"you are in school\")\n",
        "else:\n",
        "    print(\"you are a child\")\n",
        "\n",
        "print(\"thank you\")"
      ],
      "metadata": {
        "colab": {
          "base_uri": "https://localhost:8080/"
        },
        "id": "dFAfMLC82jih",
        "outputId": "742423c7-3084-4ef8-a148-30ddc2945b2e"
      },
      "execution_count": null,
      "outputs": [
        {
          "output_type": "stream",
          "name": "stdout",
          "text": [
            "you are an adult\n",
            "you can vote\n",
            "thank you\n"
          ]
        }
      ]
    },
    {
      "cell_type": "code",
      "source": [
        "#sixteen\n",
        "first=input(\"enter first number:\")\n",
        "operator=input(\"enter operator (+,-,*,/,%):\")\n",
        "second=input(\"enter second number:\")\n",
        "first=int(first)\n",
        "second=int(second)\n",
        "\n",
        "if operator==\"+\":\n",
        "    print(first+second)\n",
        "elif operator==\"-\":\n",
        "    print(first-second)\n",
        "elif operator==\"*\":\n",
        "    print(first*second)\n",
        "elif operator==\"/\":\n",
        "    print(first/second)\n",
        "elif operator==\"%\":\n",
        "    print(first % second)\n",
        "else:\n",
        "    print(\"Invalid Operations\")"
      ],
      "metadata": {
        "colab": {
          "base_uri": "https://localhost:8080/"
        },
        "id": "qIvij0F92oGW",
        "outputId": "47bb7e1d-2f30-40bf-ce2e-002afd0e7fde"
      },
      "execution_count": null,
      "outputs": [
        {
          "output_type": "stream",
          "name": "stdout",
          "text": [
            "enter first number:34\n",
            "enter operator (+,-,*,/,%):+\n",
            "enter second number:56\n",
            "90\n"
          ]
        }
      ]
    },
    {
      "cell_type": "code",
      "source": [
        "#seventeen\n",
        "numbers=range(5) #0,1 ,2,3,4\n",
        "print(numbers)"
      ],
      "metadata": {
        "colab": {
          "base_uri": "https://localhost:8080/"
        },
        "id": "MpgGA8gb2qjK",
        "outputId": "6f84e892-8f60-4693-a5a1-eef92305bfda"
      },
      "execution_count": null,
      "outputs": [
        {
          "output_type": "stream",
          "name": "stdout",
          "text": [
            "range(0, 5)\n"
          ]
        }
      ]
    },
    {
      "cell_type": "code",
      "source": [
        "#eighteen\n",
        "print(1)\n",
        "print(2)\n",
        "print(3)\n",
        "i=1\n",
        "while i<=100:\n",
        "    print(i)\n",
        "    i=i+5"
      ],
      "metadata": {
        "colab": {
          "base_uri": "https://localhost:8080/"
        },
        "id": "tibcCMj02shd",
        "outputId": "e34bb53c-8a0a-4e0c-b6c2-f6e4b81da0ed"
      },
      "execution_count": null,
      "outputs": [
        {
          "output_type": "stream",
          "name": "stdout",
          "text": [
            "1\n",
            "2\n",
            "3\n",
            "1\n",
            "6\n",
            "11\n",
            "16\n",
            "21\n",
            "26\n",
            "31\n",
            "36\n",
            "41\n",
            "46\n",
            "51\n",
            "56\n",
            "61\n",
            "66\n",
            "71\n",
            "76\n",
            "81\n",
            "86\n",
            "91\n",
            "96\n"
          ]
        }
      ]
    },
    {
      "cell_type": "code",
      "source": [
        "#nineteen\n",
        "i=1\n",
        "while i<=5:\n",
        "    print(i * \"*\")\n",
        "    i=i+1"
      ],
      "metadata": {
        "colab": {
          "base_uri": "https://localhost:8080/"
        },
        "id": "5hVdWBsc2vMk",
        "outputId": "f5c2492e-b5b4-4a5b-af79-f63eb93e158c"
      },
      "execution_count": null,
      "outputs": [
        {
          "output_type": "stream",
          "name": "stdout",
          "text": [
            "*\n",
            "**\n",
            "***\n",
            "****\n",
            "*****\n"
          ]
        }
      ]
    },
    {
      "cell_type": "code",
      "source": [
        "#twenty\n",
        "i=5\n",
        "while i>=0:\n",
        "    print(i * \"*\")\n",
        "    i=i-1"
      ],
      "metadata": {
        "colab": {
          "base_uri": "https://localhost:8080/"
        },
        "id": "voKI7KXU2w81",
        "outputId": "2d91de40-a827-4603-aa15-e45ee77401fe"
      },
      "execution_count": null,
      "outputs": [
        {
          "output_type": "stream",
          "name": "stdout",
          "text": [
            "*****\n",
            "****\n",
            "***\n",
            "**\n",
            "*\n",
            "\n"
          ]
        }
      ]
    },
    {
      "cell_type": "code",
      "source": [
        "#twenty one\n",
        "for item in range(5):\n",
        "    print(item+1)"
      ],
      "metadata": {
        "colab": {
          "base_uri": "https://localhost:8080/"
        },
        "id": "DipIyLuN21N_",
        "outputId": "27964cb3-df7a-4fcb-f822-ebdd6a194184"
      },
      "execution_count": null,
      "outputs": [
        {
          "output_type": "stream",
          "name": "stdout",
          "text": [
            "1\n",
            "2\n",
            "3\n",
            "4\n",
            "5\n"
          ]
        }
      ]
    },
    {
      "cell_type": "code",
      "source": [
        "#twenty two\n",
        "marks=[95,98,97,\"maths\"]\n",
        "print(marks)"
      ],
      "metadata": {
        "colab": {
          "base_uri": "https://localhost:8080/"
        },
        "id": "O9zYceTc223-",
        "outputId": "31fe8e43-4ec0-46bf-ff3a-4209aa0bf253"
      },
      "execution_count": null,
      "outputs": [
        {
          "output_type": "stream",
          "name": "stdout",
          "text": [
            "[95, 98, 97, 'maths']\n"
          ]
        }
      ]
    },
    {
      "cell_type": "code",
      "source": [
        "#twenty two-continue\n",
        "marks=[95,98,97]\n",
        "print(marks[0])"
      ],
      "metadata": {
        "colab": {
          "base_uri": "https://localhost:8080/"
        },
        "id": "Blj0VM3828yO",
        "outputId": "6ae18c8f-517c-45dc-9f09-4764b12e7aab"
      },
      "execution_count": null,
      "outputs": [
        {
          "output_type": "stream",
          "name": "stdout",
          "text": [
            "95\n"
          ]
        }
      ]
    },
    {
      "cell_type": "code",
      "source": [
        "#twenty two-continue\n",
        "marks=[95,98,97]\n",
        "print(marks[-1])"
      ],
      "metadata": {
        "colab": {
          "base_uri": "https://localhost:8080/"
        },
        "id": "C_jkII1m3CJ6",
        "outputId": "290e33aa-76fa-4994-b052-e20a5b11e203"
      },
      "execution_count": null,
      "outputs": [
        {
          "output_type": "stream",
          "name": "stdout",
          "text": [
            "97\n"
          ]
        }
      ]
    },
    {
      "cell_type": "code",
      "source": [
        "#twenty two-continue\n",
        "marks=[95,98,97]\n",
        "print(marks[0:2])"
      ],
      "metadata": {
        "colab": {
          "base_uri": "https://localhost:8080/"
        },
        "id": "uTsZaed43FrD",
        "outputId": "cd88bc79-16f3-4a2d-8d8d-39be8fa165a8"
      },
      "execution_count": null,
      "outputs": [
        {
          "output_type": "stream",
          "name": "stdout",
          "text": [
            "[95, 98]\n"
          ]
        }
      ]
    },
    {
      "cell_type": "code",
      "source": [
        "#twenty three\n",
        "marks=[95,98,97]\n",
        "for score in marks:\n",
        "    print(score)"
      ],
      "metadata": {
        "colab": {
          "base_uri": "https://localhost:8080/"
        },
        "id": "qtPJ2MaU3LHo",
        "outputId": "66fcbf27-2447-4008-da6d-8d57b3366b8b"
      },
      "execution_count": null,
      "outputs": [
        {
          "output_type": "stream",
          "name": "stdout",
          "text": [
            "95\n",
            "98\n",
            "97\n"
          ]
        }
      ]
    },
    {
      "cell_type": "code",
      "source": [
        "#twenty four\n",
        "marks=[95,98,97]\n",
        "marks.append(99)\n",
        "print(marks)"
      ],
      "metadata": {
        "colab": {
          "base_uri": "https://localhost:8080/"
        },
        "id": "UO2NvVEn3M7n",
        "outputId": "0569126c-6cf0-4bc2-e635-242e3113d1cc"
      },
      "execution_count": null,
      "outputs": [
        {
          "output_type": "stream",
          "name": "stdout",
          "text": [
            "[95, 98, 97, 99]\n"
          ]
        }
      ]
    },
    {
      "cell_type": "code",
      "source": [
        "#twenty five\n",
        "marks=[95,98,97]\n",
        "marks.insert(0,99)\n",
        "print(marks)"
      ],
      "metadata": {
        "colab": {
          "base_uri": "https://localhost:8080/"
        },
        "id": "MZ0rk7C23Oe8",
        "outputId": "5ca5f422-77f2-4467-843f-0761b797a3be"
      },
      "execution_count": null,
      "outputs": [
        {
          "output_type": "stream",
          "name": "stdout",
          "text": [
            "[99, 95, 98, 97]\n"
          ]
        }
      ]
    },
    {
      "cell_type": "code",
      "source": [
        "#twenty six\n",
        "marks=[95,98,97]\n",
        "marks.insert(0,99)\n",
        "print(99 in marks)"
      ],
      "metadata": {
        "colab": {
          "base_uri": "https://localhost:8080/"
        },
        "id": "EU6-M6rD3Qu1",
        "outputId": "085e79a4-b1a6-4871-ddf1-08369757bbcd"
      },
      "execution_count": null,
      "outputs": [
        {
          "output_type": "stream",
          "name": "stdout",
          "text": [
            "True\n"
          ]
        }
      ]
    },
    {
      "cell_type": "code",
      "source": [
        "#twenty seven\n",
        "marks=[95,98,97]\n",
        "marks.insert(0,99)\n",
        "print(len(marks))"
      ],
      "metadata": {
        "colab": {
          "base_uri": "https://localhost:8080/"
        },
        "id": "3_GGP3ZS3Soa",
        "outputId": "eba9af2b-024d-4b5c-a54e-270c9ff3b866"
      },
      "execution_count": null,
      "outputs": [
        {
          "output_type": "stream",
          "name": "stdout",
          "text": [
            "4\n"
          ]
        }
      ]
    },
    {
      "cell_type": "code",
      "source": [
        "#twenty eight\n",
        "marks=[95,98,97]\n",
        "i=0\n",
        "while i<len(marks):\n",
        "    print(marks[i])\n",
        "    i=i+1\n",
        "\n",
        "marks.clear()\n",
        "print(marks)"
      ],
      "metadata": {
        "colab": {
          "base_uri": "https://localhost:8080/"
        },
        "id": "NcTku4Pb3VdM",
        "outputId": "868c99bc-8bcc-4642-c1c5-7e8d6865bea8"
      },
      "execution_count": null,
      "outputs": [
        {
          "output_type": "stream",
          "name": "stdout",
          "text": [
            "95\n",
            "98\n",
            "97\n",
            "[]\n"
          ]
        }
      ]
    },
    {
      "cell_type": "code",
      "source": [
        "#twenty nine\n",
        "students=[\"ram\", \"shyam\", \"kishan\", \"radha\", \"radhika\"]\n",
        "\n",
        "for student in students:\n",
        "    if student==\"radha\":\n",
        "        break;\n",
        "        print(student)"
      ],
      "metadata": {
        "id": "bNbHzFgm3YoM"
      },
      "execution_count": null,
      "outputs": []
    },
    {
      "cell_type": "code",
      "source": [
        "#thirty\n",
        "students=[\"ram\", \"shyam\", \"kishan\", \"radha\", \"radhika\"]\n",
        "\n",
        "for student in students:\n",
        "    if student==\"kishan\":\n",
        "        continue;\n",
        "        print(student)"
      ],
      "metadata": {
        "id": "g4P8xCL63cIH"
      },
      "execution_count": null,
      "outputs": []
    },
    {
      "cell_type": "code",
      "source": [
        "#thirty one-tuple\n",
        "marks=(95,97,98,97,97)\n",
        "print(marks.count(97))\n",
        "print(marks.index(97))"
      ],
      "metadata": {
        "colab": {
          "base_uri": "https://localhost:8080/"
        },
        "id": "6d6f9I6D3dvZ",
        "outputId": "d904eb01-e72d-4004-c9db-9133102878df"
      },
      "execution_count": null,
      "outputs": [
        {
          "output_type": "stream",
          "name": "stdout",
          "text": [
            "3\n",
            "1\n"
          ]
        }
      ]
    },
    {
      "cell_type": "code",
      "source": [
        "#thirty two- set\n",
        "marks={95,97,98,97,97}\n",
        "person=\"ram\", \"shyam\", \"abhi\""
      ],
      "metadata": {
        "id": "eCqnExFW3gWo"
      },
      "execution_count": null,
      "outputs": []
    },
    {
      "cell_type": "code",
      "source": [
        "#thity three\n",
        "marks={95,98,97,97,97}\n",
        "\n",
        "for score in marks:\n",
        "    print(score)"
      ],
      "metadata": {
        "colab": {
          "base_uri": "https://localhost:8080/"
        },
        "id": "7ZE3leKr3iYs",
        "outputId": "b7189e59-02fd-4fd5-e84c-7c55b3432846"
      },
      "execution_count": null,
      "outputs": [
        {
          "output_type": "stream",
          "name": "stdout",
          "text": [
            "97\n",
            "98\n",
            "95\n"
          ]
        }
      ]
    },
    {
      "cell_type": "code",
      "source": [
        "\n",
        "#thity four\n",
        "marks={\"english\":95, \"chemistry\" :98}\n",
        "information={\"ram\" : \"balkishan\"}\n",
        "print(marks[\"chemistry\"])\n",
        "\n",
        "marks[\"physics\"]=97;\n",
        "print(marks)\n",
        "marks[\"physics\"] =99;\n",
        "print(marks)"
      ],
      "metadata": {
        "colab": {
          "base_uri": "https://localhost:8080/"
        },
        "id": "t0IMmqqy3lmI",
        "outputId": "4053cf18-7388-4e3f-eb57-8368dd0e2c00"
      },
      "execution_count": null,
      "outputs": [
        {
          "output_type": "stream",
          "name": "stdout",
          "text": [
            "98\n",
            "{'english': 95, 'chemistry': 98, 'physics': 97}\n",
            "{'english': 95, 'chemistry': 98, 'physics': 99}\n"
          ]
        }
      ]
    },
    {
      "cell_type": "code",
      "source": [
        "#thity five\n",
        "import math\n",
        "print(dir(math))"
      ],
      "metadata": {
        "colab": {
          "base_uri": "https://localhost:8080/"
        },
        "id": "g55JBh7A3oef",
        "outputId": "225d2360-1ea6-4cbd-d569-7945a4a25829"
      },
      "execution_count": null,
      "outputs": [
        {
          "output_type": "stream",
          "name": "stdout",
          "text": [
            "['__doc__', '__loader__', '__name__', '__package__', '__spec__', 'acos', 'acosh', 'asin', 'asinh', 'atan', 'atan2', 'atanh', 'ceil', 'copysign', 'cos', 'cosh', 'degrees', 'e', 'erf', 'erfc', 'exp', 'expm1', 'fabs', 'factorial', 'floor', 'fmod', 'frexp', 'fsum', 'gamma', 'gcd', 'hypot', 'inf', 'isclose', 'isfinite', 'isinf', 'isnan', 'ldexp', 'lgamma', 'log', 'log10', 'log1p', 'log2', 'modf', 'nan', 'pi', 'pow', 'radians', 'remainder', 'sin', 'sinh', 'sqrt', 'tan', 'tanh', 'tau', 'trunc']\n"
          ]
        }
      ]
    },
    {
      "cell_type": "code",
      "source": [
        "#thity six\n",
        "from math import sqrt\n",
        "print(sqrt(4))"
      ],
      "metadata": {
        "colab": {
          "base_uri": "https://localhost:8080/"
        },
        "id": "jfmUFRbK3p9P",
        "outputId": "0ae212c0-263b-4652-fa80-8f877022090e"
      },
      "execution_count": null,
      "outputs": [
        {
          "output_type": "stream",
          "name": "stdout",
          "text": [
            "2.0\n"
          ]
        }
      ]
    },
    {
      "cell_type": "code",
      "source": [
        "#thity seven\n",
        "from math import *\n",
        "print(sqrt(16))"
      ],
      "metadata": {
        "colab": {
          "base_uri": "https://localhost:8080/"
        },
        "id": "2w4gr38t3r5w",
        "outputId": "9f83584f-f256-473b-fc2f-6ce647286cf1"
      },
      "execution_count": null,
      "outputs": [
        {
          "output_type": "stream",
          "name": "stdout",
          "text": [
            "4.0\n"
          ]
        }
      ]
    },
    {
      "cell_type": "code",
      "source": [
        "#thirty eight\n",
        "def print_sum(first, second):\n",
        "    print(first+ second)\n",
        "\n",
        "print_sum(1,2)"
      ],
      "metadata": {
        "colab": {
          "base_uri": "https://localhost:8080/"
        },
        "id": "N7zopblu3vsm",
        "outputId": "83dbcbc2-a3fa-44e8-d74e-c9bc7173a404"
      },
      "execution_count": null,
      "outputs": [
        {
          "output_type": "stream",
          "name": "stdout",
          "text": [
            "3\n"
          ]
        }
      ]
    },
    {
      "cell_type": "code",
      "source": [
        "# thirty nine\n",
        "def print_sum(first, second=4):\n",
        "    print(first + second)\n",
        "\n",
        "\n",
        "print_sum(1)\n"
      ],
      "metadata": {
        "colab": {
          "base_uri": "https://localhost:8080/"
        },
        "id": "nq0gsoG91-e-",
        "outputId": "5641d8c3-9688-401e-eb0e-55627f1b13e3"
      },
      "execution_count": null,
      "outputs": [
        {
          "output_type": "stream",
          "name": "stdout",
          "text": [
            "5\n"
          ]
        }
      ]
    }
  ]
}